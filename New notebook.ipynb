{
  "cells":[
    {
      "cell_type":"code",
      "source":[
        "\n",
        "import pandas as pd\n",
        "import numpy as np\n",
        "from matplotlib import pyplot as plt\n",
        "plt.style.use('ggplot')\n",
        "\n",
        "import seaborn as sns # for making plots with seaborn\n",
        "color = sns.color_palette()\n",
        "sns.set(rc={'figure.figsize':(25,15)})\n",
        "\n",
        "import plotly\n",
        "# connected=True means it will download the latest version of plotly javascript library.\n",
        "plotly.offline.init_notebook_mode(connected=True)\n",
        "import plotly.graph_objs as go\n",
        "\n",
        "import plotly.figure_factory as ff\n",
        "import cufflinks as cf\n",
        "\n",
        "\n",
        "import warnings\n",
        "warnings.filterwarnings('ignore')"
      ],
      "execution_count":0,
      "outputs":[
        {
          "data":{
            "text\/html":[
              "        <script type=\"text\/javascript\">\n",
              "        window.PlotlyConfig = {MathJaxConfig: 'local'};\n",
              "        if (window.MathJax) {MathJax.Hub.Config({SVG: {font: \"STIX-Web\"}});}\n",
              "        if (typeof require !== 'undefined') {\n",
              "        require.undef(\"plotly\");\n",
              "        requirejs.config({\n",
              "            paths: {\n",
              "                'plotly': ['https:\/\/cdn.plot.ly\/plotly-latest.min']\n",
              "            }\n",
              "        });\n",
              "        require(['plotly'], function(Plotly) {\n",
              "            window._Plotly = Plotly;\n",
              "        });\n",
              "        }\n",
              "        <\/script>\n",
              "        "
            ]
          },
          "metadata":{
            
          },
          "output_type":"display_data"
        }
      ],
      "metadata":{
        
      }
    },
    {
      "cell_type":"code",
      "source":[
        "df = pd.read_csv('googleplaystore.csv')\n",
        "\n",
        "df.drop_duplicates(subset='App', inplace=True)\n",
        "df = df[df['Android Ver'] != np.nan]\n",
        "df = df[df['Android Ver'] != 'NaN']\n",
        "df = df[df['Installs'] != 'Free']\n",
        "df = df[df['Installs'] != 'Paid']"
      ],
      "execution_count":0,
      "outputs":[
        
      ],
      "metadata":{
        
      }
    },
    {
      "cell_type":"code",
      "source":[
        "! pip install cufflinks"
      ],
      "execution_count":0,
      "outputs":[
        {
          "name":"stdout",
          "text":[
            "Collecting cufflinks\r\n",
            "  Downloading cufflinks-0.17.3.tar.gz (81 kB)\r\n",
            "\u001b[?25l\r\u001b[K     |████                            | 10 kB 20.4 MB\/s eta 0:00:01\r\u001b[K     |████████                        | 20 kB 23.0 MB\/s eta 0:00:01\r\u001b[K     |████████████                    | 30 kB 25.4 MB\/s eta 0:00:01\r\u001b[K     |████████████████                | 40 kB 27.9 MB\/s eta 0:00:01\r\u001b[K     |████████████████████            | 51 kB 29.9 MB\/s eta 0:00:01\r\u001b[K     |████████████████████████        | 61 kB 28.9 MB\/s eta 0:00:01\r\u001b[K     |████████████████████████████    | 71 kB 25.3 MB\/s eta 0:00:01\r\u001b[K     |████████████████████████████████| 81 kB 2.1 MB\/s \r\n",
            "\u001b[?25hRequirement already satisfied: numpy>=1.9.2 in \/opt\/anaconda3\/envs\/datalore-user\/lib\/python3.7\/site-packages (from cufflinks) (1.19.2)\r\n",
            "Requirement already satisfied: pandas>=0.19.2 in \/opt\/anaconda3\/envs\/datalore-user\/lib\/python3.7\/site-packages (from cufflinks) (1.1.3)\r\n",
            "Requirement already satisfied: plotly>=4.1.1 in \/opt\/anaconda3\/envs\/datalore-user\/lib\/python3.7\/site-packages (from cufflinks) (4.11.0)\r\n",
            "Requirement already satisfied: six>=1.9.0 in \/opt\/anaconda3\/envs\/datalore-user\/lib\/python3.7\/site-packages (from cufflinks) (1.15.0)\r\n",
            "Collecting colorlover>=0.2.1\r\n",
            "  Downloading colorlover-0.3.0-py3-none-any.whl (8.9 kB)\r\n",
            "Requirement already satisfied: setuptools>=34.4.1 in \/opt\/anaconda3\/envs\/datalore-user\/lib\/python3.7\/site-packages (from cufflinks) (49.6.0.post20210108)\r\n",
            "Requirement already satisfied: ipython>=5.3.0 in \/opt\/anaconda3\/envs\/datalore-user\/lib\/python3.7\/site-packages (from cufflinks) (7.20.0)\r\n",
            "Requirement already satisfied: ipywidgets>=7.0.0 in \/opt\/anaconda3\/envs\/datalore-user\/lib\/python3.7\/site-packages (from cufflinks) (7.5.1)\r\n",
            "Requirement already satisfied: python-dateutil>=2.7.3 in \/opt\/anaconda3\/envs\/datalore-user\/lib\/python3.7\/site-packages (from pandas>=0.19.2->cufflinks) (2.8.1)\r\n",
            "Requirement already satisfied: pytz>=2017.2 in \/opt\/anaconda3\/envs\/datalore-user\/lib\/python3.7\/site-packages (from pandas>=0.19.2->cufflinks) (2021.1)\r\n",
            "Requirement already satisfied: retrying>=1.3.3 in \/opt\/anaconda3\/envs\/datalore-user\/lib\/python3.7\/site-packages (from plotly>=4.1.1->cufflinks) (1.3.3)\r\n",
            "Requirement already satisfied: traitlets>=4.2 in \/opt\/anaconda3\/envs\/datalore-user\/lib\/python3.7\/site-packages (from ipython>=5.3.0->cufflinks) (5.0.5)\r\n",
            "Requirement already satisfied: jedi>=0.16 in \/opt\/anaconda3\/envs\/datalore-user\/lib\/python3.7\/site-packages (from ipython>=5.3.0->cufflinks) (0.17.2)\r\n",
            "Requirement already satisfied: backcall in \/opt\/anaconda3\/envs\/datalore-user\/lib\/python3.7\/site-packages (from ipython>=5.3.0->cufflinks) (0.2.0)\r\n",
            "Requirement already satisfied: prompt-toolkit!=3.0.0,!=3.0.1,<3.1.0,>=2.0.0 in \/opt\/anaconda3\/envs\/datalore-user\/lib\/python3.7\/site-packages (from ipython>=5.3.0->cufflinks) (3.0.16)\r\n",
            "Requirement already satisfied: pexpect>4.3; sys_platform != \"win32\" in \/opt\/anaconda3\/envs\/datalore-user\/lib\/python3.7\/site-packages (from ipython>=5.3.0->cufflinks) (4.8.0)\r\n",
            "Requirement already satisfied: pickleshare in \/opt\/anaconda3\/envs\/datalore-user\/lib\/python3.7\/site-packages (from ipython>=5.3.0->cufflinks) (0.7.5)\r\n",
            "Requirement already satisfied: decorator in \/opt\/anaconda3\/envs\/datalore-user\/lib\/python3.7\/site-packages (from ipython>=5.3.0->cufflinks) (4.4.2)\r\n",
            "Requirement already satisfied: pygments in \/opt\/anaconda3\/envs\/datalore-user\/lib\/python3.7\/site-packages (from ipython>=5.3.0->cufflinks) (2.8.0)\r\n",
            "Requirement already satisfied: nbformat>=4.2.0 in \/opt\/anaconda3\/envs\/datalore-user\/lib\/python3.7\/site-packages (from ipywidgets>=7.0.0->cufflinks) (5.0.8)\r\n",
            "Requirement already satisfied: ipykernel>=4.5.1 in \/opt\/anaconda3\/envs\/datalore-user\/lib\/python3.7\/site-packages (from ipywidgets>=7.0.0->cufflinks) (5.4.2)\r\n",
            "Requirement already satisfied: widgetsnbextension~=3.5.0 in \/opt\/anaconda3\/envs\/datalore-user\/lib\/python3.7\/site-packages (from ipywidgets>=7.0.0->cufflinks) (3.5.1)\r\n",
            "Requirement already satisfied: ipython-genutils in \/opt\/anaconda3\/envs\/datalore-user\/lib\/python3.7\/site-packages (from traitlets>=4.2->ipython>=5.3.0->cufflinks) (0.2.0)\r\n",
            "Requirement already satisfied: parso<0.8.0,>=0.7.0 in \/opt\/anaconda3\/envs\/datalore-user\/lib\/python3.7\/site-packages (from jedi>=0.16->ipython>=5.3.0->cufflinks) (0.7.1)\r\n",
            "Requirement already satisfied: wcwidth in \/opt\/anaconda3\/envs\/datalore-user\/lib\/python3.7\/site-packages (from prompt-toolkit!=3.0.0,!=3.0.1,<3.1.0,>=2.0.0->ipython>=5.3.0->cufflinks) (0.2.5)\r\n",
            "Requirement already satisfied: ptyprocess>=0.5 in \/opt\/anaconda3\/envs\/datalore-user\/lib\/python3.7\/site-packages (from pexpect>4.3; sys_platform != \"win32\"->ipython>=5.3.0->cufflinks) (0.7.0)\r\n",
            "Requirement already satisfied: jsonschema!=2.5.0,>=2.4 in \/opt\/anaconda3\/envs\/datalore-user\/lib\/python3.7\/site-packages (from nbformat>=4.2.0->ipywidgets>=7.0.0->cufflinks) (3.2.0)\r\n",
            "Requirement already satisfied: jupyter-core in \/opt\/anaconda3\/envs\/datalore-user\/lib\/python3.7\/site-packages (from nbformat>=4.2.0->ipywidgets>=7.0.0->cufflinks) (4.7.1)\r\n",
            "Requirement already satisfied: tornado>=4.2 in \/opt\/anaconda3\/envs\/datalore-user\/lib\/python3.7\/site-packages (from ipykernel>=4.5.1->ipywidgets>=7.0.0->cufflinks) (6.1)\r\n",
            "Requirement already satisfied: jupyter-client in \/opt\/anaconda3\/envs\/datalore-user\/lib\/python3.7\/site-packages (from ipykernel>=4.5.1->ipywidgets>=7.0.0->cufflinks) (6.1.3)\r\n",
            "Requirement already satisfied: notebook>=4.4.1 in \/opt\/anaconda3\/envs\/datalore-user\/lib\/python3.7\/site-packages (from widgetsnbextension~=3.5.0->ipywidgets>=7.0.0->cufflinks) (6.2.0)\r\n",
            "Requirement already satisfied: importlib-metadata; python_version < \"3.8\" in \/opt\/anaconda3\/envs\/datalore-user\/lib\/python3.7\/site-packages (from jsonschema!=2.5.0,>=2.4->nbformat>=4.2.0->ipywidgets>=7.0.0->cufflinks) (3.4.0)\r\n",
            "Requirement already satisfied: attrs>=17.4.0 in \/opt\/anaconda3\/envs\/datalore-user\/lib\/python3.7\/site-packages (from jsonschema!=2.5.0,>=2.4->nbformat>=4.2.0->ipywidgets>=7.0.0->cufflinks) (20.3.0)\r\n",
            "Requirement already satisfied: pyrsistent>=0.14.0 in \/opt\/anaconda3\/envs\/datalore-user\/lib\/python3.7\/site-packages (from jsonschema!=2.5.0,>=2.4->nbformat>=4.2.0->ipywidgets>=7.0.0->cufflinks) (0.17.3)\r\n",
            "Requirement already satisfied: pyzmq>=13 in \/opt\/anaconda3\/envs\/datalore-user\/lib\/python3.7\/site-packages (from jupyter-client->ipykernel>=4.5.1->ipywidgets>=7.0.0->cufflinks) (22.0.3)\r\n",
            "Requirement already satisfied: jinja2 in \/opt\/anaconda3\/envs\/datalore-user\/lib\/python3.7\/site-packages (from notebook>=4.4.1->widgetsnbextension~=3.5.0->ipywidgets>=7.0.0->cufflinks) (2.11.3)\r\n",
            "Requirement already satisfied: Send2Trash>=1.5.0 in \/opt\/anaconda3\/envs\/datalore-user\/lib\/python3.7\/site-packages (from notebook>=4.4.1->widgetsnbextension~=3.5.0->ipywidgets>=7.0.0->cufflinks) (1.5.0)\r\n",
            "Requirement already satisfied: argon2-cffi in \/opt\/anaconda3\/envs\/datalore-user\/lib\/python3.7\/site-packages (from notebook>=4.4.1->widgetsnbextension~=3.5.0->ipywidgets>=7.0.0->cufflinks) (20.1.0)\r\n",
            "Requirement already satisfied: nbconvert in \/opt\/anaconda3\/envs\/datalore-user\/lib\/python3.7\/site-packages (from notebook>=4.4.1->widgetsnbextension~=3.5.0->ipywidgets>=7.0.0->cufflinks) (5.6.1)\r\n",
            "Requirement already satisfied: prometheus-client in \/opt\/anaconda3\/envs\/datalore-user\/lib\/python3.7\/site-packages (from notebook>=4.4.1->widgetsnbextension~=3.5.0->ipywidgets>=7.0.0->cufflinks) (0.9.0)\r\n",
            "Requirement already satisfied: terminado>=0.8.3 in \/opt\/anaconda3\/envs\/datalore-user\/lib\/python3.7\/site-packages (from notebook>=4.4.1->widgetsnbextension~=3.5.0->ipywidgets>=7.0.0->cufflinks) (0.9.2)\r\n",
            "Requirement already satisfied: zipp>=0.5 in \/opt\/anaconda3\/envs\/datalore-user\/lib\/python3.7\/site-packages (from importlib-metadata; python_version < \"3.8\"->jsonschema!=2.5.0,>=2.4->nbformat>=4.2.0->ipywidgets>=7.0.0->cufflinks) (3.4.0)\r\n",
            "Requirement already satisfied: typing-extensions>=3.6.4; python_version < \"3.8\" in \/opt\/anaconda3\/envs\/datalore-user\/lib\/python3.7\/site-packages (from importlib-metadata; python_version < \"3.8\"->jsonschema!=2.5.0,>=2.4->nbformat>=4.2.0->ipywidgets>=7.0.0->cufflinks) (3.7.4.3)\r\n",
            "Requirement already satisfied: MarkupSafe>=0.23 in \/opt\/anaconda3\/envs\/datalore-user\/lib\/python3.7\/site-packages (from jinja2->notebook>=4.4.1->widgetsnbextension~=3.5.0->ipywidgets>=7.0.0->cufflinks) (1.1.1)\r\n",
            "Requirement already satisfied: cffi>=1.0.0 in \/opt\/anaconda3\/envs\/datalore-user\/lib\/python3.7\/site-packages (from argon2-cffi->notebook>=4.4.1->widgetsnbextension~=3.5.0->ipywidgets>=7.0.0->cufflinks) (1.14.4)\r\n",
            "Requirement already satisfied: testpath in \/opt\/anaconda3\/envs\/datalore-user\/lib\/python3.7\/site-packages (from nbconvert->notebook>=4.4.1->widgetsnbextension~=3.5.0->ipywidgets>=7.0.0->cufflinks) (0.4.4)\r\n",
            "Requirement already satisfied: entrypoints>=0.2.2 in \/opt\/anaconda3\/envs\/datalore-user\/lib\/python3.7\/site-packages (from nbconvert->notebook>=4.4.1->widgetsnbextension~=3.5.0->ipywidgets>=7.0.0->cufflinks) (0.3)\r\n",
            "Requirement already satisfied: mistune<2,>=0.8.1 in \/opt\/anaconda3\/envs\/datalore-user\/lib\/python3.7\/site-packages (from nbconvert->notebook>=4.4.1->widgetsnbextension~=3.5.0->ipywidgets>=7.0.0->cufflinks) (0.8.4)\r\n",
            "Requirement already satisfied: pandocfilters>=1.4.1 in \/opt\/anaconda3\/envs\/datalore-user\/lib\/python3.7\/site-packages (from nbconvert->notebook>=4.4.1->widgetsnbextension~=3.5.0->ipywidgets>=7.0.0->cufflinks) (1.4.2)\r\n",
            "Requirement already satisfied: defusedxml in \/opt\/anaconda3\/envs\/datalore-user\/lib\/python3.7\/site-packages (from nbconvert->notebook>=4.4.1->widgetsnbextension~=3.5.0->ipywidgets>=7.0.0->cufflinks) (0.6.0)\r\n",
            "Requirement already satisfied: bleach in \/opt\/anaconda3\/envs\/datalore-user\/lib\/python3.7\/site-packages (from nbconvert->notebook>=4.4.1->widgetsnbextension~=3.5.0->ipywidgets>=7.0.0->cufflinks) (3.3.0)\r\n",
            "Requirement already satisfied: pycparser in \/opt\/anaconda3\/envs\/datalore-user\/lib\/python3.7\/site-packages (from cffi>=1.0.0->argon2-cffi->notebook>=4.4.1->widgetsnbextension~=3.5.0->ipywidgets>=7.0.0->cufflinks) (2.20)\r\n",
            "Requirement already satisfied: webencodings in \/opt\/anaconda3\/envs\/datalore-user\/lib\/python3.7\/site-packages (from bleach->nbconvert->notebook>=4.4.1->widgetsnbextension~=3.5.0->ipywidgets>=7.0.0->cufflinks) (0.5.1)\r\n",
            "Requirement already satisfied: packaging in \/opt\/anaconda3\/envs\/datalore-user\/lib\/python3.7\/site-packages (from bleach->nbconvert->notebook>=4.4.1->widgetsnbextension~=3.5.0->ipywidgets>=7.0.0->cufflinks) (20.9)\r\n",
            "Requirement already satisfied: pyparsing>=2.0.2 in \/opt\/anaconda3\/envs\/datalore-user\/lib\/python3.7\/site-packages (from packaging->bleach->nbconvert->notebook>=4.4.1->widgetsnbextension~=3.5.0->ipywidgets>=7.0.0->cufflinks) (2.4.7)\r\n",
            "Building wheels for collected packages: cufflinks\r\n",
            "  Building wheel for cufflinks (setup.py) ... \u001b[?25l-\b \bdone\r\n",
            "\u001b[?25h  Created wheel for cufflinks: filename=cufflinks-0.17.3-py3-none-any.whl size=67922 sha256=ae9edba42fc060daf37d0eb3df531e6ddc0e50d4393b2649234c20b23ef1db70\r\n",
            "  Stored in directory: \/home\/datalore\/.cache\/pip\/wheels\/e1\/27\/13\/3fe67fa7ea7be444b831d117220b3b586b872c9acd4df480d0\r\n",
            "Successfully built cufflinks\r\n",
            "Installing collected packages: colorlover, cufflinks\r\n",
            "Successfully installed colorlover-0.3.0 cufflinks-0.17.3\r\n"
          ],
          "output_type":"stream"
        }
      ],
      "metadata":{
        
      }
    },
    {
      "cell_type":"code",
      "source":[
        "df['Installs'] = df['Installs'].apply(lambda x: x.replace('+', '') if '+' in str(x) else x)\n",
        "df['Installs'] = df['Installs'].apply(lambda x: x.replace(',', '') if ',' in str(x) else x)\n",
        "df['Installs'] = df['Installs'].apply(lambda x: int(x))"
      ],
      "execution_count":0,
      "outputs":[
        
      ],
      "metadata":{
        
      }
    },
    {
      "cell_type":"code",
      "source":[
        "number_of_apps_in_category = df['Category'].value_counts().sort_values(ascending=True)\n",
        "\n",
        "data = [go.Pie(\n",
        "        labels = number_of_apps_in_category.index,\n",
        "        values = number_of_apps_in_category.values,\n",
        "        hoverinfo = 'label+value'\n",
        "    \n",
        ")]\n",
        "\n",
        "plotly.offline.iplot(data, filename='active_category')"
      ],
      "execution_count":0,
      "outputs":[
        {
          "data":{
            "text\/plain":[
              "Unsupported"
            ],
            "text\/html":[
              "<div>                            <div id=\"58d69ec3-4e65-4c72-9ae4-a4a5debac313\" class=\"plotly-graph-div\" style=\"height:525px; width:100%;\"><\/div>            <script type=\"text\/javascript\">                require([\"plotly\"], function(Plotly) {                    window.PLOTLYENV=window.PLOTLYENV || {};                                    if (document.getElementById(\"58d69ec3-4e65-4c72-9ae4-a4a5debac313\")) {                    Plotly.newPlot(                        \"58d69ec3-4e65-4c72-9ae4-a4a5debac313\",                        [{\"hoverinfo\": \"label+value\", \"labels\": [\"BEAUTY\", \"COMICS\", \"PARENTING\", \"EVENTS\", \"ART_AND_DESIGN\", \"HOUSE_AND_HOME\", \"WEATHER\", \"LIBRARIES_AND_DEMO\", \"AUTO_AND_VEHICLES\", \"ENTERTAINMENT\", \"FOOD_AND_DRINK\", \"EDUCATION\", \"MAPS_AND_NAVIGATION\", \"VIDEO_PLAYERS\", \"DATING\", \"SHOPPING\", \"TRAVEL_AND_LOCAL\", \"BOOKS_AND_REFERENCE\", \"SOCIAL\", \"NEWS_AND_MAGAZINES\", \"PHOTOGRAPHY\", \"HEALTH_AND_FITNESS\", \"COMMUNICATION\", \"SPORTS\", \"FINANCE\", \"LIFESTYLE\", \"PRODUCTIVITY\", \"PERSONALIZATION\", \"MEDICAL\", \"BUSINESS\", \"TOOLS\", \"GAME\", \"FAMILY\"], \"type\": \"pie\", \"values\": [53, 56, 60, 64, 64, 74, 79, 84, 85, 102, 112, 119, 131, 163, 171, 202, 219, 222, 239, 254, 281, 288, 315, 325, 345, 369, 374, 376, 395, 420, 827, 959, 1832]}],                        {\"template\": {\"data\": {\"bar\": [{\"error_x\": {\"color\": \"#2a3f5f\"}, \"error_y\": {\"color\": \"#2a3f5f\"}, \"marker\": {\"line\": {\"color\": \"#E5ECF6\", \"width\": 0.5}}, \"type\": \"bar\"}], \"barpolar\": [{\"marker\": {\"line\": {\"color\": \"#E5ECF6\", \"width\": 0.5}}, \"type\": \"barpolar\"}], \"carpet\": [{\"aaxis\": {\"endlinecolor\": \"#2a3f5f\", \"gridcolor\": \"white\", \"linecolor\": \"white\", \"minorgridcolor\": \"white\", \"startlinecolor\": \"#2a3f5f\"}, \"baxis\": {\"endlinecolor\": \"#2a3f5f\", \"gridcolor\": \"white\", \"linecolor\": \"white\", \"minorgridcolor\": \"white\", \"startlinecolor\": \"#2a3f5f\"}, \"type\": \"carpet\"}], \"choropleth\": [{\"colorbar\": {\"outlinewidth\": 0, \"ticks\": \"\"}, \"type\": \"choropleth\"}], \"contour\": [{\"colorbar\": {\"outlinewidth\": 0, \"ticks\": \"\"}, \"colorscale\": [[0.0, \"#0d0887\"], [0.1111111111111111, \"#46039f\"], [0.2222222222222222, \"#7201a8\"], [0.3333333333333333, \"#9c179e\"], [0.4444444444444444, \"#bd3786\"], [0.5555555555555556, \"#d8576b\"], [0.6666666666666666, \"#ed7953\"], [0.7777777777777778, \"#fb9f3a\"], [0.8888888888888888, \"#fdca26\"], [1.0, \"#f0f921\"]], \"type\": \"contour\"}], \"contourcarpet\": [{\"colorbar\": {\"outlinewidth\": 0, \"ticks\": \"\"}, \"type\": \"contourcarpet\"}], \"heatmap\": [{\"colorbar\": {\"outlinewidth\": 0, \"ticks\": \"\"}, \"colorscale\": [[0.0, \"#0d0887\"], [0.1111111111111111, \"#46039f\"], [0.2222222222222222, \"#7201a8\"], [0.3333333333333333, \"#9c179e\"], [0.4444444444444444, \"#bd3786\"], [0.5555555555555556, \"#d8576b\"], [0.6666666666666666, \"#ed7953\"], [0.7777777777777778, \"#fb9f3a\"], [0.8888888888888888, \"#fdca26\"], [1.0, \"#f0f921\"]], \"type\": \"heatmap\"}], \"heatmapgl\": [{\"colorbar\": {\"outlinewidth\": 0, \"ticks\": \"\"}, \"colorscale\": [[0.0, \"#0d0887\"], [0.1111111111111111, \"#46039f\"], [0.2222222222222222, \"#7201a8\"], [0.3333333333333333, \"#9c179e\"], [0.4444444444444444, \"#bd3786\"], [0.5555555555555556, \"#d8576b\"], [0.6666666666666666, \"#ed7953\"], [0.7777777777777778, \"#fb9f3a\"], [0.8888888888888888, \"#fdca26\"], [1.0, \"#f0f921\"]], \"type\": \"heatmapgl\"}], \"histogram\": [{\"marker\": {\"colorbar\": {\"outlinewidth\": 0, \"ticks\": \"\"}}, \"type\": \"histogram\"}], \"histogram2d\": [{\"colorbar\": {\"outlinewidth\": 0, \"ticks\": \"\"}, \"colorscale\": [[0.0, \"#0d0887\"], [0.1111111111111111, \"#46039f\"], [0.2222222222222222, \"#7201a8\"], [0.3333333333333333, \"#9c179e\"], [0.4444444444444444, \"#bd3786\"], [0.5555555555555556, \"#d8576b\"], [0.6666666666666666, \"#ed7953\"], [0.7777777777777778, \"#fb9f3a\"], [0.8888888888888888, \"#fdca26\"], [1.0, \"#f0f921\"]], \"type\": \"histogram2d\"}], \"histogram2dcontour\": [{\"colorbar\": {\"outlinewidth\": 0, \"ticks\": \"\"}, \"colorscale\": [[0.0, \"#0d0887\"], [0.1111111111111111, \"#46039f\"], [0.2222222222222222, \"#7201a8\"], [0.3333333333333333, \"#9c179e\"], [0.4444444444444444, \"#bd3786\"], [0.5555555555555556, \"#d8576b\"], [0.6666666666666666, \"#ed7953\"], [0.7777777777777778, \"#fb9f3a\"], [0.8888888888888888, \"#fdca26\"], [1.0, \"#f0f921\"]], \"type\": \"histogram2dcontour\"}], \"mesh3d\": [{\"colorbar\": {\"outlinewidth\": 0, \"ticks\": \"\"}, \"type\": \"mesh3d\"}], \"parcoords\": [{\"line\": {\"colorbar\": {\"outlinewidth\": 0, \"ticks\": \"\"}}, \"type\": \"parcoords\"}], \"pie\": [{\"automargin\": true, \"type\": \"pie\"}], \"scatter\": [{\"marker\": {\"colorbar\": {\"outlinewidth\": 0, \"ticks\": \"\"}}, \"type\": \"scatter\"}], \"scatter3d\": [{\"line\": {\"colorbar\": {\"outlinewidth\": 0, \"ticks\": \"\"}}, \"marker\": {\"colorbar\": {\"outlinewidth\": 0, \"ticks\": \"\"}}, \"type\": \"scatter3d\"}], \"scattercarpet\": [{\"marker\": {\"colorbar\": {\"outlinewidth\": 0, \"ticks\": \"\"}}, \"type\": \"scattercarpet\"}], \"scattergeo\": [{\"marker\": {\"colorbar\": {\"outlinewidth\": 0, \"ticks\": \"\"}}, \"type\": \"scattergeo\"}], \"scattergl\": [{\"marker\": {\"colorbar\": {\"outlinewidth\": 0, \"ticks\": \"\"}}, \"type\": \"scattergl\"}], \"scattermapbox\": [{\"marker\": {\"colorbar\": {\"outlinewidth\": 0, \"ticks\": \"\"}}, \"type\": \"scattermapbox\"}], \"scatterpolar\": [{\"marker\": {\"colorbar\": {\"outlinewidth\": 0, \"ticks\": \"\"}}, \"type\": \"scatterpolar\"}], \"scatterpolargl\": [{\"marker\": {\"colorbar\": {\"outlinewidth\": 0, \"ticks\": \"\"}}, \"type\": \"scatterpolargl\"}], \"scatterternary\": [{\"marker\": {\"colorbar\": {\"outlinewidth\": 0, \"ticks\": \"\"}}, \"type\": \"scatterternary\"}], \"surface\": [{\"colorbar\": {\"outlinewidth\": 0, \"ticks\": \"\"}, \"colorscale\": [[0.0, \"#0d0887\"], [0.1111111111111111, \"#46039f\"], [0.2222222222222222, \"#7201a8\"], [0.3333333333333333, \"#9c179e\"], [0.4444444444444444, \"#bd3786\"], [0.5555555555555556, \"#d8576b\"], [0.6666666666666666, \"#ed7953\"], [0.7777777777777778, \"#fb9f3a\"], [0.8888888888888888, \"#fdca26\"], [1.0, \"#f0f921\"]], \"type\": \"surface\"}], \"table\": [{\"cells\": {\"fill\": {\"color\": \"#EBF0F8\"}, \"line\": {\"color\": \"white\"}}, \"header\": {\"fill\": {\"color\": \"#C8D4E3\"}, \"line\": {\"color\": \"white\"}}, \"type\": \"table\"}]}, \"layout\": {\"annotationdefaults\": {\"arrowcolor\": \"#2a3f5f\", \"arrowhead\": 0, \"arrowwidth\": 1}, \"coloraxis\": {\"colorbar\": {\"outlinewidth\": 0, \"ticks\": \"\"}}, \"colorscale\": {\"diverging\": [[0, \"#8e0152\"], [0.1, \"#c51b7d\"], [0.2, \"#de77ae\"], [0.3, \"#f1b6da\"], [0.4, \"#fde0ef\"], [0.5, \"#f7f7f7\"], [0.6, \"#e6f5d0\"], [0.7, \"#b8e186\"], [0.8, \"#7fbc41\"], [0.9, \"#4d9221\"], [1, \"#276419\"]], \"sequential\": [[0.0, \"#0d0887\"], [0.1111111111111111, \"#46039f\"], [0.2222222222222222, \"#7201a8\"], [0.3333333333333333, \"#9c179e\"], [0.4444444444444444, \"#bd3786\"], [0.5555555555555556, \"#d8576b\"], [0.6666666666666666, \"#ed7953\"], [0.7777777777777778, \"#fb9f3a\"], [0.8888888888888888, \"#fdca26\"], [1.0, \"#f0f921\"]], \"sequentialminus\": [[0.0, \"#0d0887\"], [0.1111111111111111, \"#46039f\"], [0.2222222222222222, \"#7201a8\"], [0.3333333333333333, \"#9c179e\"], [0.4444444444444444, \"#bd3786\"], [0.5555555555555556, \"#d8576b\"], [0.6666666666666666, \"#ed7953\"], [0.7777777777777778, \"#fb9f3a\"], [0.8888888888888888, \"#fdca26\"], [1.0, \"#f0f921\"]]}, \"colorway\": [\"#636efa\", \"#EF553B\", \"#00cc96\", \"#ab63fa\", \"#FFA15A\", \"#19d3f3\", \"#FF6692\", \"#B6E880\", \"#FF97FF\", \"#FECB52\"], \"font\": {\"color\": \"#2a3f5f\"}, \"geo\": {\"bgcolor\": \"white\", \"lakecolor\": \"white\", \"landcolor\": \"#E5ECF6\", \"showlakes\": true, \"showland\": true, \"subunitcolor\": \"white\"}, \"hoverlabel\": {\"align\": \"left\"}, \"hovermode\": \"closest\", \"mapbox\": {\"style\": \"light\"}, \"paper_bgcolor\": \"white\", \"plot_bgcolor\": \"#E5ECF6\", \"polar\": {\"angularaxis\": {\"gridcolor\": \"white\", \"linecolor\": \"white\", \"ticks\": \"\"}, \"bgcolor\": \"#E5ECF6\", \"radialaxis\": {\"gridcolor\": \"white\", \"linecolor\": \"white\", \"ticks\": \"\"}}, \"scene\": {\"xaxis\": {\"backgroundcolor\": \"#E5ECF6\", \"gridcolor\": \"white\", \"gridwidth\": 2, \"linecolor\": \"white\", \"showbackground\": true, \"ticks\": \"\", \"zerolinecolor\": \"white\"}, \"yaxis\": {\"backgroundcolor\": \"#E5ECF6\", \"gridcolor\": \"white\", \"gridwidth\": 2, \"linecolor\": \"white\", \"showbackground\": true, \"ticks\": \"\", \"zerolinecolor\": \"white\"}, \"zaxis\": {\"backgroundcolor\": \"#E5ECF6\", \"gridcolor\": \"white\", \"gridwidth\": 2, \"linecolor\": \"white\", \"showbackground\": true, \"ticks\": \"\", \"zerolinecolor\": \"white\"}}, \"shapedefaults\": {\"line\": {\"color\": \"#2a3f5f\"}}, \"ternary\": {\"aaxis\": {\"gridcolor\": \"white\", \"linecolor\": \"white\", \"ticks\": \"\"}, \"baxis\": {\"gridcolor\": \"white\", \"linecolor\": \"white\", \"ticks\": \"\"}, \"bgcolor\": \"#E5ECF6\", \"caxis\": {\"gridcolor\": \"white\", \"linecolor\": \"white\", \"ticks\": \"\"}}, \"title\": {\"x\": 0.05}, \"xaxis\": {\"automargin\": true, \"gridcolor\": \"white\", \"linecolor\": \"white\", \"ticks\": \"\", \"title\": {\"standoff\": 15}, \"zerolinecolor\": \"white\", \"zerolinewidth\": 2}, \"yaxis\": {\"automargin\": true, \"gridcolor\": \"white\", \"linecolor\": \"white\", \"ticks\": \"\", \"title\": {\"standoff\": 15}, \"zerolinecolor\": \"white\", \"zerolinewidth\": 2}}}},                        {\"responsive\": true}                    ).then(function(){\n",
              "                            \n",
              "var gd = document.getElementById('58d69ec3-4e65-4c72-9ae4-a4a5debac313');\n",
              "var x = new MutationObserver(function (mutations, observer) {{\n",
              "        var display = window.getComputedStyle(gd).display;\n",
              "        if (!display || display === 'none') {{\n",
              "            console.log([gd, 'removed!']);\n",
              "            Plotly.purge(gd);\n",
              "            observer.disconnect();\n",
              "        }}\n",
              "}});\n",
              "\n",
              "\/\/ Listen for the removal of the full notebook cells\n",
              "var notebookContainer = gd.closest('#notebook-container');\n",
              "if (notebookContainer) {{\n",
              "    x.observe(notebookContainer, {childList: true});\n",
              "}}\n",
              "\n",
              "\/\/ Listen for the clearing of the current output cell\n",
              "var outputEl = gd.closest('.output');\n",
              "if (outputEl) {{\n",
              "    x.observe(outputEl, {childList: true});\n",
              "}}\n",
              "\n",
              "                        })                };                });            <\/script>        <\/div>"
            ]
          },
          "metadata":{
            
          },
          "output_type":"display_data"
        }
      ],
      "metadata":{
        
      }
    },
    {
      "cell_type":"code",
      "source":[
        
      ],
      "execution_count":null,
      "outputs":[
        
      ],
      "metadata":{
        
      }
    }
  ],
  "metadata":{
    
  },
  "nbformat":4,
  "nbformat_minor":0
}